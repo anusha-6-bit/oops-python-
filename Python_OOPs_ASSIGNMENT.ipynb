{
  "nbformat": 4,
  "nbformat_minor": 0,
  "metadata": {
    "colab": {
      "provenance": []
    },
    "kernelspec": {
      "name": "python3",
      "display_name": "Python 3"
    },
    "language_info": {
      "name": "python"
    }
  },
  "cells": [
    {
      "cell_type": "code",
      "execution_count": null,
      "metadata": {
        "id": "MexjQARLu49a"
      },
      "outputs": [],
      "source": [
        "1.What is Object-Oriented Programming (OOP)?\n",
        "OOP is a programming paradigm based on the concept of objects, which encapsulate data (attributes) and behavior (methods). It emphasizes modularity, reusability, and abstraction by modeling real-world entities as objects.\n",
        "\n",
        " 2.What is a class in OOP?\n",
        "A class is a blueprint or template for creating objects. It defines the attributes (variables) and methods (functions) that its objects (instances) will have.\n",
        "\n",
        "3. What is an object in OOP?\n",
        "An object is an instance of a class. It holds specific data (state) and can perform actions (methods) defined by its class.\n",
        "\n",
        "4. What is the difference between abstraction and encapsulation?\n",
        "Abstraction hides implementation details and shows only the essential features to the user.\n",
        "\n",
        "Encapsulation bundles data and methods together and controls access using access modifiers (like private/protected), preventing direct external interference.\n",
        "\n",
        "5. What are dunder methods in Python?\n",
        "Dunder (double underscore) methods, like __init__, __str__, or __add__, are special methods in Python that enable operator overloading and special behavior. They usually start and end with double underscores.\n",
        "\n",
        "6. Explain the concept of inheritance in OOP\n",
        "Inheritance allows a class (child/subclass) to inherit attributes and methods from another class (parent/superclass), promoting code reuse and hierarchical relationships.\n",
        "\n",
        "7. What is polymorphism in OOP?\n",
        "Polymorphism allows the same method or operation to behave differently depending on the object’s type or class. Example: different classes can define their own draw() method, but you can call draw() on any shape object.\n",
        "\n",
        "8. How is encapsulation achieved in Python?\n",
        "Encapsulation is achieved by using private (_name or __name) attributes/methods and providing public methods (getters/setters) to control access and modification.\n",
        "\n",
        "9. What is a constructor in Python?\n",
        "A constructor is the __init__ method, which is automatically called when an object is created to initialize its attributes.\n",
        "\n",
        "10. What are class and static methods in Python?\n",
        "Class methods (@classmethod) receive the class (cls) as the first argument and can modify class state.\n",
        "\n",
        "Static methods (@staticmethod) don’t receive self or cls and behave like regular functions inside a class.\n",
        "\n",
        "11. What is method overloading in Python?\n",
        "Python does not support traditional method overloading (same method name, different signatures). Instead, you simulate it using default arguments or *args/**args to handle varying inputs.\n",
        "\n",
        "12. What is method overriding in OOP?\n",
        "Method overriding is when a child class provides a new implementation of a method inherited from its parent class, customizing or replacing its behavior.\n",
        "\n",
        "13. What is a property decorator in Python?\n",
        "The @property decorator turns a method into a getter, allowing attribute access syntax (obj.attr) while still using method logic under the hood.\n",
        "\n",
        "14. Why is polymorphism important in OOP?\n",
        "Polymorphism allows writing flexible, extensible, and reusable code by treating objects of different types through a common interface, enabling generic programming.\n",
        "\n",
        "15. What is an abstract class in Python?\n",
        "An abstract class (from the abc module) cannot be instantiated and can define abstract methods (using @abstractmethod) that must be implemented by child classes.\n",
        "\n",
        "16. What are the advantages of OOP?\n",
        "Code reusability through inheritance\n",
        "\n",
        "Encapsulation of data for security\n",
        "\n",
        "Abstraction simplifies complex systems\n",
        "\n",
        "Polymorphism allows flexible code\n",
        "\n",
        "Easier maintenance and scalability\n",
        "\n",
        "17. What is the difference between a class variable and an instance variable?\n",
        "Class variable: shared across all instances of a class.\n",
        "\n",
        "Instance variable: unique to each object (defined using self).\n",
        "\n",
        "18. What is multiple inheritance in Python?\n",
        "Multiple inheritance means a class can inherit from more than one parent class, combining their attributes and methods.\n",
        "\n",
        "19. Explain the purpose of __str__ and __repr__ methods in Python\n",
        "__str__: returns a user-friendly string representation (used by print()).\n",
        "\n",
        "__repr__: returns an unambiguous string for developers, ideally valid Python code or useful debug info.\n",
        "\n",
        "20. What is the significance of the super() function in Python?\n",
        "super() is used to call methods from the parent class inside a child class, especially useful in method overriding or multiple inheritance.\n",
        "\n",
        "21. What is the significance of the __del__ method in Python?\n",
        "The __del__ method is the destructor, called when an object is about to be destroyed, used for cleanup (though relying on it is discouraged).\n",
        "\n",
        "22. What is the difference between @staticmethod and @classmethod in Python?\n",
        "@staticmethod: no access to class or instance (acts like a normal function inside a class).\n",
        "\n",
        "@classmethod: receives the class (cls) as the first argument, can modify class-level data.\n",
        "\n",
        "23. How does polymorphism work in Python with inheritance?\n",
        "Polymorphism works by overriding inherited methods in child classes so that the same method call behaves differently depending on the object’s actual class.\n",
        "\n",
        "24.What is method chaining in Python OOP?\n",
        "Method chaining allows calling multiple methods on the same object in a single line by returning self from each method (e.g., obj.method1().method2()).\n",
        "\n",
        "25. What is the purpose of the __call__ method in Python?\n",
        "The __call__ method allows an object to be called like a function, i.e., obj() will trigger obj.__call__().\n",
        "\n"
      ]
    },
    {
      "cell_type": "markdown",
      "source": [
        "PRACTICAL QUESTIONS\n"
      ],
      "metadata": {
        "id": "Sf9z8oj0ybNy"
      }
    },
    {
      "cell_type": "markdown",
      "source": [
        "1. Parent class Animal, child class Dog overriding speak()"
      ],
      "metadata": {
        "id": "hNAjFdRXv_zP"
      }
    },
    {
      "cell_type": "code",
      "source": [
        "class Animal:\n",
        "    def speak(self):\n",
        "        print(\"The animal makes a sound.\")\n",
        "\n",
        "class Dog(Animal):\n",
        "    def speak(self):\n",
        "        print(\"Bark!\")\n",
        "\n",
        "dog = Dog()\n",
        "dog.speak()\n"
      ],
      "metadata": {
        "colab": {
          "base_uri": "https://localhost:8080/"
        },
        "id": "BZHqEFCzwAuP",
        "outputId": "b72e4827-54fd-4664-fcf4-e8e78151d099"
      },
      "execution_count": 1,
      "outputs": [
        {
          "output_type": "stream",
          "name": "stdout",
          "text": [
            "Bark!\n"
          ]
        }
      ]
    },
    {
      "cell_type": "markdown",
      "source": [
        "2. Abstract class Shape, subclasses Circle and Rectangle"
      ],
      "metadata": {
        "id": "NtOXjDQ9wEq0"
      }
    },
    {
      "cell_type": "code",
      "source": [
        "from abc import ABC, abstractmethod\n",
        "import math\n",
        "\n",
        "class Shape(ABC):\n",
        "    @abstractmethod\n",
        "    def area(self):\n",
        "        pass\n",
        "\n",
        "class Circle(Shape):\n",
        "    def __init__(self, radius):\n",
        "        self.radius = radius\n",
        "\n",
        "    def area(self):\n",
        "        return math.pi * self.radius ** 2\n",
        "\n",
        "class Rectangle(Shape):\n",
        "    def __init__(self, width, height):\n",
        "        self.width = width\n",
        "        self.height = height\n",
        "\n",
        "    def area(self):\n",
        "        return self.width * self.height\n",
        "\n",
        "circle = Circle(5)\n",
        "rectangle = Rectangle(4, 6)\n",
        "print(\"Circle area:\", circle.area())\n",
        "print(\"Rectangle area:\", rectangle.area())\n"
      ],
      "metadata": {
        "colab": {
          "base_uri": "https://localhost:8080/"
        },
        "id": "Y5du6YrywHcd",
        "outputId": "a9070954-38eb-4b1b-e093-e8217ec9120a"
      },
      "execution_count": 2,
      "outputs": [
        {
          "output_type": "stream",
          "name": "stdout",
          "text": [
            "Circle area: 78.53981633974483\n",
            "Rectangle area: 24\n"
          ]
        }
      ]
    },
    {
      "cell_type": "markdown",
      "source": [
        "3. Multi-level inheritance: Vehicle → Car → ElectricCar"
      ],
      "metadata": {
        "id": "8rYQRjIowLZk"
      }
    },
    {
      "cell_type": "code",
      "source": [
        "class Vehicle:\n",
        "    def __init__(self, vehicle_type):\n",
        "        self.type = vehicle_type\n",
        "\n",
        "class Car(Vehicle):\n",
        "    def __init__(self, vehicle_type, brand):\n",
        "        super().__init__(vehicle_type)\n",
        "        self.brand = brand\n",
        "\n",
        "class ElectricCar(Car):\n",
        "    def __init__(self, vehicle_type, brand, battery):\n",
        "        super().__init__(vehicle_type, brand)\n",
        "        self.battery = battery\n",
        "\n",
        "e_car = ElectricCar(\"Car\", \"Tesla\", \"100 kWh\")\n",
        "print(f\"{e_car.brand} {e_car.type} with battery: {e_car.battery}\")\n"
      ],
      "metadata": {
        "colab": {
          "base_uri": "https://localhost:8080/"
        },
        "id": "6NHGhdeewPON",
        "outputId": "4a2cc08e-0a96-492d-d880-e445d75e80aa"
      },
      "execution_count": 4,
      "outputs": [
        {
          "output_type": "stream",
          "name": "stdout",
          "text": [
            "Tesla Car with battery: 100 kWh\n"
          ]
        }
      ]
    },
    {
      "cell_type": "markdown",
      "source": [
        "4. Polymorphism: Bird → Sparrow, Penguin"
      ],
      "metadata": {
        "id": "OGUWJbY5wUqW"
      }
    },
    {
      "cell_type": "code",
      "source": [
        "class Bird:\n",
        "    def fly(self):\n",
        "        print(\"Bird is flying.\")\n",
        "\n",
        "class Sparrow(Bird):\n",
        "    def fly(self):\n",
        "        print(\"Sparrow flies swiftly.\")\n",
        "\n",
        "class Penguin(Bird):\n",
        "    def fly(self):\n",
        "        print(\"Penguins can't fly, they swim.\")\n",
        "\n",
        "birds = [Sparrow(), Penguin()]\n",
        "for bird in birds:\n",
        "    bird.fly()\n"
      ],
      "metadata": {
        "colab": {
          "base_uri": "https://localhost:8080/"
        },
        "id": "HJmrLx2WwZmP",
        "outputId": "d8fe782f-c323-4740-9171-5de811dce251"
      },
      "execution_count": 5,
      "outputs": [
        {
          "output_type": "stream",
          "name": "stdout",
          "text": [
            "Sparrow flies swiftly.\n",
            "Penguins can't fly, they swim.\n"
          ]
        }
      ]
    },
    {
      "cell_type": "markdown",
      "source": [
        "5. Encapsulation: BankAccount with private balance"
      ],
      "metadata": {
        "id": "aWAqMux3weJ-"
      }
    },
    {
      "cell_type": "code",
      "source": [
        "class BankAccount:\n",
        "    def __init__(self, balance=0):\n",
        "        self.__balance = balance\n",
        "\n",
        "    def deposit(self, amount):\n",
        "        self.__balance += amount\n",
        "\n",
        "    def withdraw(self, amount):\n",
        "        if amount <= self.__balance:\n",
        "            self.__balance -= amount\n",
        "        else:\n",
        "            print(\"Insufficient funds.\")\n",
        "\n",
        "    def get_balance(self):\n",
        "        return self.__balance\n",
        "\n",
        "account = BankAccount()\n",
        "account.deposit(100)\n",
        "account.withdraw(50)\n",
        "print(\"Balance:\", account.get_balance())\n"
      ],
      "metadata": {
        "colab": {
          "base_uri": "https://localhost:8080/"
        },
        "id": "eFruINJAwe59",
        "outputId": "84bb45fa-96e4-4cb1-a5be-8218e2bfabf1"
      },
      "execution_count": 6,
      "outputs": [
        {
          "output_type": "stream",
          "name": "stdout",
          "text": [
            "Balance: 50\n"
          ]
        }
      ]
    },
    {
      "cell_type": "markdown",
      "source": [
        "6. Runtime polymorphism: Instrument → Guitar, Piano"
      ],
      "metadata": {
        "id": "PD9pGBH_wjQt"
      }
    },
    {
      "cell_type": "code",
      "source": [
        "class Instrument:\n",
        "    def play(self):\n",
        "        print(\"Playing an instrument.\")\n",
        "\n",
        "class Guitar(Instrument):\n",
        "    def play(self):\n",
        "        print(\"Strumming the guitar.\")\n",
        "\n",
        "class Piano(Instrument):\n",
        "    def play(self):\n",
        "        print(\"Playing the piano.\")\n",
        "\n",
        "instruments = [Guitar(), Piano()]\n",
        "for instrument in instruments:\n",
        "    instrument.play()\n"
      ],
      "metadata": {
        "colab": {
          "base_uri": "https://localhost:8080/"
        },
        "id": "gEo8-GqWwkFc",
        "outputId": "3bcfabbf-7348-4d0f-de15-a6de4d1e54b8"
      },
      "execution_count": 7,
      "outputs": [
        {
          "output_type": "stream",
          "name": "stdout",
          "text": [
            "Strumming the guitar.\n",
            "Playing the piano.\n"
          ]
        }
      ]
    },
    {
      "cell_type": "markdown",
      "source": [
        "7. Class method and static method: MathOperations"
      ],
      "metadata": {
        "id": "wg812qs4wotG"
      }
    },
    {
      "cell_type": "markdown",
      "source": [],
      "metadata": {
        "id": "KHeSzZs5vBz3"
      }
    },
    {
      "cell_type": "code",
      "source": [
        "class MathOperations:\n",
        "    @classmethod\n",
        "    def add_numbers(cls, a, b):\n",
        "        return a + b\n",
        "\n",
        "    @staticmethod\n",
        "    def subtract_numbers(a, b):\n",
        "        return a - b\n",
        "\n",
        "print(\"Add:\", MathOperations.add_numbers(5, 3))\n",
        "print(\"Subtract:\", MathOperations.subtract_numbers(5, 3))\n"
      ],
      "metadata": {
        "colab": {
          "base_uri": "https://localhost:8080/"
        },
        "id": "mThp_KwIwtH1",
        "outputId": "f47a5c11-1a1b-48ad-bfe6-75ec0a952cbc"
      },
      "execution_count": 8,
      "outputs": [
        {
          "output_type": "stream",
          "name": "stdout",
          "text": [
            "Add: 8\n",
            "Subtract: 2\n"
          ]
        }
      ]
    },
    {
      "cell_type": "markdown",
      "source": [
        "8. Person class with counter for total persons"
      ],
      "metadata": {
        "id": "pYe1dkMFwvfV"
      }
    },
    {
      "cell_type": "code",
      "source": [
        "class Person:\n",
        "    count = 0\n",
        "\n",
        "    def __init__(self, name):\n",
        "        self.name = name\n",
        "        Person.count += 1\n",
        "\n",
        "    @classmethod\n",
        "    def total_persons(cls):\n",
        "        return cls.count\n",
        "\n",
        "p1 = Person(\"Alice\")\n",
        "p2 = Person(\"Bob\")\n",
        "print(\"Total persons:\", Person.total_persons())\n"
      ],
      "metadata": {
        "colab": {
          "base_uri": "https://localhost:8080/"
        },
        "id": "tAqiHSx9wzGN",
        "outputId": "9bdc947a-15d0-4476-86cb-95cd42ba6db0"
      },
      "execution_count": 10,
      "outputs": [
        {
          "output_type": "stream",
          "name": "stdout",
          "text": [
            "Total persons: 2\n"
          ]
        }
      ]
    },
    {
      "cell_type": "markdown",
      "source": [
        "9. Fraction class with overridden __str__"
      ],
      "metadata": {
        "id": "eeNppv8-w31F"
      }
    },
    {
      "cell_type": "code",
      "source": [
        "class Fraction:\n",
        "    def __init__(self, numerator, denominator):\n",
        "        self.numerator = numerator\n",
        "        self.denominator = denominator\n",
        "\n",
        "    def __str__(self):\n",
        "        return f\"{self.numerator}/{self.denominator}\"\n",
        "\n",
        "frac = Fraction(3, 4)\n",
        "print(frac)\n"
      ],
      "metadata": {
        "colab": {
          "base_uri": "https://localhost:8080/"
        },
        "id": "s5H1kVfJw4ju",
        "outputId": "8a03a51f-ec1f-4ca0-bc2a-680ac6be0e5a"
      },
      "execution_count": 11,
      "outputs": [
        {
          "output_type": "stream",
          "name": "stdout",
          "text": [
            "3/4\n"
          ]
        }
      ]
    },
    {
      "cell_type": "markdown",
      "source": [
        "10. Operator overloading: Vector addition"
      ],
      "metadata": {
        "id": "NbiCVVJoxFnN"
      }
    },
    {
      "cell_type": "code",
      "source": [
        "class Vector:\n",
        "    def __init__(self, x, y):\n",
        "        self.x = x\n",
        "        self.y = y\n",
        "\n",
        "    def __add__(self, other):\n",
        "        return Vector(self.x + other.x, self.y + other.y)\n",
        "\n",
        "    def __str__(self):\n",
        "        return f\"Vector({self.x}, {self.y})\"\n",
        "\n",
        "v1 = Vector(1, 2)\n",
        "v2 = Vector(3, 4)\n",
        "print(v1 + v2)\n"
      ],
      "metadata": {
        "colab": {
          "base_uri": "https://localhost:8080/"
        },
        "id": "1YGz2vYlxI_-",
        "outputId": "c475bdfe-f05e-4774-a544-cd7f395cab23"
      },
      "execution_count": 12,
      "outputs": [
        {
          "output_type": "stream",
          "name": "stdout",
          "text": [
            "Vector(4, 6)\n"
          ]
        }
      ]
    },
    {
      "cell_type": "markdown",
      "source": [
        "11. Person class with greet method"
      ],
      "metadata": {
        "id": "2cbVAgD8xLh8"
      }
    },
    {
      "cell_type": "code",
      "source": [
        "class Person:\n",
        "    def __init__(self, name, age):\n",
        "        self.name = name\n",
        "        self.age = age\n",
        "\n",
        "    def greet(self):\n",
        "        print(f\"Hello, my name is {self.name} and I am {self.age} years old.\")\n",
        "\n",
        "p = Person(\"Alice\", 30)\n",
        "p.greet()\n"
      ],
      "metadata": {
        "colab": {
          "base_uri": "https://localhost:8080/"
        },
        "id": "CNA8kr4ExOD8",
        "outputId": "89f8e90d-21ad-4c47-e44f-3ad144d22f38"
      },
      "execution_count": 13,
      "outputs": [
        {
          "output_type": "stream",
          "name": "stdout",
          "text": [
            "Hello, my name is Alice and I am 30 years old.\n"
          ]
        }
      ]
    },
    {
      "cell_type": "markdown",
      "source": [
        "12. Student class with average grade"
      ],
      "metadata": {
        "id": "_UNYGrocxQod"
      }
    },
    {
      "cell_type": "code",
      "source": [
        "class Student:\n",
        "    def __init__(self, name, grades):\n",
        "        self.name = name\n",
        "        self.grades = grades\n",
        "\n",
        "    def average_grade(self):\n",
        "        return sum(self.grades) / len(self.grades)\n",
        "\n",
        "student = Student(\"Bob\", [90, 85, 95])\n",
        "print(\"Average grade:\", student.average_grade())\n"
      ],
      "metadata": {
        "colab": {
          "base_uri": "https://localhost:8080/"
        },
        "id": "UK19YB6QxTBc",
        "outputId": "54b68e32-cadc-4811-929f-d6a526f4aede"
      },
      "execution_count": 14,
      "outputs": [
        {
          "output_type": "stream",
          "name": "stdout",
          "text": [
            "Average grade: 90.0\n"
          ]
        }
      ]
    },
    {
      "cell_type": "markdown",
      "source": [
        "13. Rectangle class with set_dimensions and area"
      ],
      "metadata": {
        "id": "ujewAqbsxVzu"
      }
    },
    {
      "cell_type": "code",
      "source": [
        "class Rectangle:\n",
        "    def set_dimensions(self, width, height):\n",
        "        self.width = width\n",
        "        self.height = height\n",
        "\n",
        "    def area(self):\n",
        "        return self.width * self.height\n",
        "\n",
        "rect = Rectangle()\n",
        "rect.set_dimensions(5, 3)\n",
        "print(\"Area:\", rect.area())\n"
      ],
      "metadata": {
        "colab": {
          "base_uri": "https://localhost:8080/"
        },
        "id": "nBe7Wo0FxaPe",
        "outputId": "aaf50cd4-ba5a-4c64-cdc3-54ca8b2bb798"
      },
      "execution_count": 15,
      "outputs": [
        {
          "output_type": "stream",
          "name": "stdout",
          "text": [
            "Area: 15\n"
          ]
        }
      ]
    },
    {
      "cell_type": "markdown",
      "source": [
        "14. Employee class with salary, Manager with bonus"
      ],
      "metadata": {
        "id": "tT8YLeadxb2O"
      }
    },
    {
      "cell_type": "code",
      "source": [
        "class Employee:\n",
        "    def __init__(self, hours, rate):\n",
        "        self.hours = hours\n",
        "        self.rate = rate\n",
        "\n",
        "    def calculate_salary(self):\n",
        "        return self.hours * self.rate\n",
        "\n",
        "class Manager(Employee):\n",
        "    def __init__(self, hours, rate, bonus):\n",
        "        super().__init__(hours, rate)\n",
        "        self.bonus = bonus\n",
        "\n",
        "    def calculate_salary(self):\n",
        "        base_salary = super().calculate_salary()\n",
        "        return base_salary + self.bonus\n",
        "\n",
        "emp = Employee(40, 20)\n",
        "mgr = Manager(40, 20, 500)\n",
        "print(\"Employee salary:\", emp.calculate_salary())\n",
        "print(\"Manager salary:\", mgr.calculate_salary())\n"
      ],
      "metadata": {
        "colab": {
          "base_uri": "https://localhost:8080/"
        },
        "id": "TdOlhw-0xeO_",
        "outputId": "0b71e32e-98ac-4f05-8370-91d2a10ddc74"
      },
      "execution_count": 16,
      "outputs": [
        {
          "output_type": "stream",
          "name": "stdout",
          "text": [
            "Employee salary: 800\n",
            "Manager salary: 1300\n"
          ]
        }
      ]
    },
    {
      "cell_type": "markdown",
      "source": [
        "15. Product class with total_price()"
      ],
      "metadata": {
        "id": "Z44zuF2DxgvW"
      }
    },
    {
      "cell_type": "code",
      "source": [
        "class Product:\n",
        "    def __init__(self, name, price, quantity):\n",
        "        self.name = name\n",
        "        self.price = price\n",
        "        self.quantity = quantity\n",
        "\n",
        "    def total_price(self):\n",
        "        return self.price * self.quantity\n",
        "\n",
        "product = Product(\"Laptop\", 1000, 2)\n",
        "print(f\"Total price: ${product.total_price()}\")\n"
      ],
      "metadata": {
        "colab": {
          "base_uri": "https://localhost:8080/"
        },
        "id": "ELhtq0aHxrLW",
        "outputId": "3c564804-0b68-453d-ee55-492f68878799"
      },
      "execution_count": 17,
      "outputs": [
        {
          "output_type": "stream",
          "name": "stdout",
          "text": [
            "Total price: $2000\n"
          ]
        }
      ]
    },
    {
      "cell_type": "markdown",
      "source": [
        "16. Abstract Animal class, Cow and Sheep implementing sound()"
      ],
      "metadata": {
        "id": "x44WHE-IxtdH"
      }
    },
    {
      "cell_type": "code",
      "source": [
        "from abc import ABC, abstractmethod\n",
        "\n",
        "class Animal(ABC):\n",
        "    @abstractmethod\n",
        "    def sound(self):\n",
        "        pass\n",
        "\n",
        "class Cow(Animal):\n",
        "    def sound(self):\n",
        "        return \"Moo\"\n",
        "\n",
        "class Sheep(Animal):\n",
        "    def sound(self):\n",
        "        return \"Baa\"\n",
        "\n",
        "cow = Cow()\n",
        "sheep = Sheep()\n",
        "print(\"Cow sound:\", cow.sound())\n",
        "print(\"Sheep sound:\", sheep.sound())\n"
      ],
      "metadata": {
        "colab": {
          "base_uri": "https://localhost:8080/"
        },
        "id": "rtS6cx3FxxK3",
        "outputId": "02cdd280-7317-45a4-e083-c1cf7d7f43fa"
      },
      "execution_count": 18,
      "outputs": [
        {
          "output_type": "stream",
          "name": "stdout",
          "text": [
            "Cow sound: Moo\n",
            "Sheep sound: Baa\n"
          ]
        }
      ]
    },
    {
      "cell_type": "markdown",
      "source": [
        "17. Book class with get_book_info()"
      ],
      "metadata": {
        "id": "96TVJX4Nx0De"
      }
    },
    {
      "cell_type": "code",
      "source": [
        "class Book:\n",
        "    def __init__(self, title, author, year_published):\n",
        "        self.title = title\n",
        "        self.author = author\n",
        "        self.year_published = year_published\n",
        "\n",
        "    def get_book_info(self):\n",
        "        return f\"'{self.title}' by {self.author}, published in {self.year_published}.\"\n",
        "\n",
        "book = Book(\"1984\", \"George Orwell\", 1949)\n",
        "print(book.get_book_info())\n"
      ],
      "metadata": {
        "colab": {
          "base_uri": "https://localhost:8080/"
        },
        "id": "JnN0VFk6x5iY",
        "outputId": "1853991f-a2ea-4f2a-d5bd-d3733cc5419f"
      },
      "execution_count": 19,
      "outputs": [
        {
          "output_type": "stream",
          "name": "stdout",
          "text": [
            "'1984' by George Orwell, published in 1949.\n"
          ]
        }
      ]
    },
    {
      "cell_type": "markdown",
      "source": [
        "18. House class, Mansion subclass with number_of_rooms"
      ],
      "metadata": {
        "id": "L4Z_aggkx9kS"
      }
    },
    {
      "cell_type": "code",
      "source": [
        "class House:\n",
        "    def __init__(self, address, price):\n",
        "        self.address = address\n",
        "        self.price = price\n",
        "\n",
        "class Mansion(House):\n",
        "    def __init__(self, address, price, number_of_rooms):\n",
        "        super().__init__(address, price)\n",
        "        self.number_of_rooms = number_of_rooms\n",
        "\n",
        "mansion = Mansion(\"123 Luxury St\", 5000000, 10)\n",
        "print(f\"Mansion at {mansion.address}, Price: ${mansion.price}, Rooms: {mansion.number_of_rooms}\")\n"
      ],
      "metadata": {
        "colab": {
          "base_uri": "https://localhost:8080/"
        },
        "id": "OWpH9joayCHg",
        "outputId": "40e89dfc-5d62-438e-fb01-e2b8eda3398e"
      },
      "execution_count": 20,
      "outputs": [
        {
          "output_type": "stream",
          "name": "stdout",
          "text": [
            "Mansion at 123 Luxury St, Price: $5000000, Rooms: 10\n"
          ]
        }
      ]
    }
  ]
}